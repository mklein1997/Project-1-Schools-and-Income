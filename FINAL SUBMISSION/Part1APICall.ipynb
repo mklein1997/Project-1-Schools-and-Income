{
 "cells": [
  {
   "cell_type": "code",
   "execution_count": 38,
   "metadata": {},
   "outputs": [
    {
     "ename": "ImportError",
     "evalue": "cannot import name 'app_ID'",
     "output_type": "error",
     "traceback": [
      "\u001b[0;31m---------------------------------------------------------------------------\u001b[0m",
      "\u001b[0;31mImportError\u001b[0m                               Traceback (most recent call last)",
      "\u001b[0;32m<ipython-input-38-906fcd09fcde>\u001b[0m in \u001b[0;36m<module>\u001b[0;34m\u001b[0m\n\u001b[1;32m     10\u001b[0m \u001b[0;31m# Import API key\u001b[0m\u001b[0;34m\u001b[0m\u001b[0;34m\u001b[0m\u001b[0;34m\u001b[0m\u001b[0m\n\u001b[1;32m     11\u001b[0m \u001b[0;32mfrom\u001b[0m \u001b[0mconfig\u001b[0m \u001b[0;32mimport\u001b[0m \u001b[0mapikey\u001b[0m\u001b[0;34m\u001b[0m\u001b[0;34m\u001b[0m\u001b[0m\n\u001b[0;32m---> 12\u001b[0;31m \u001b[0;32mfrom\u001b[0m \u001b[0mconfig\u001b[0m \u001b[0;32mimport\u001b[0m \u001b[0mapp_ID\u001b[0m\u001b[0;34m\u001b[0m\u001b[0;34m\u001b[0m\u001b[0m\n\u001b[0m",
      "\u001b[0;31mImportError\u001b[0m: cannot import name 'app_ID'"
     ]
    }
   ],
   "source": [
    "# Dependencies and Setup\n",
    "import matplotlib.pyplot as plt\n",
    "import pandas as pd\n",
    "import numpy as np\n",
    "import time\n",
    "import requests\n",
    "from pprint import pprint\n",
    "from pandas import json_normalize\n",
    "import json\n",
    "# Import API key\n",
    "from config import apikey\n",
    "from config import app_ID"
   ]
  },
  {
   "cell_type": "code",
   "execution_count": 159,
   "metadata": {},
   "outputs": [],
   "source": [
    "district_list = []\n",
    "states = [\"GA\", \"AL\", \"MS\", \"SC\", \"FL\", \"LS\", \"TN\", \"NC\"]\n",
    "\n",
    "for state in states:\n",
    "    url = \"https://api.schooldigger.com/v1.2/districts?st=\"\n",
    "    query_start_url = f\"{url}\"\n",
    "    query_end_url = f\"&page=1&perPage=50&appID={app_ID}&appKey={apikey}\"\n",
    "    path = query_start_url + state + query_end_url\n",
    "    district_req = requests.get(path)\n",
    "    district_json = district_req.json()\n",
    "    if 'districtList' in district_json:\n",
    "        district_list.extend(district_json['districtList'])\n",
    "    \n",
    "    \n"
   ]
  },
  {
   "cell_type": "code",
   "execution_count": 163,
   "metadata": {},
   "outputs": [],
   "source": [
    "districtName = []\n",
    "county_list = []\n",
    "city_list = []\n",
    "numbertotalschools = []\n",
    "number_primary_schools = []\n",
    "number_middle_schools = []\n",
    "number_high_schools = []\n",
    "number_alternative_schools = []\n",
    "state_list = []\n",
    "rank = []\n",
    "rankOf = []\n",
    "rankStatewidePercentage = []\n",
    "year = []\n",
    "zip_code = []\n",
    "\n",
    "for item in district_list:\n",
    "    districtName.append(item.get('districtName'))\n",
    "    county_list.append(item.get('county').get('countyName'))\n",
    "    city_list.append(item.get('address').get('city'))\n",
    "    numbertotalschools.append(item.get('numberTotalSchools'))\n",
    "    number_primary_schools.append(item.get('numberPrimarySchools'))\n",
    "    number_middle_schools.append(item.get('numberMiddleSchools'))\n",
    "    number_high_schools.append(item.get('numberHighSchools'))\n",
    "    number_alternative_schools.append(item.get('numberAlternativeSchools'))\n",
    "    state_list.append(item.get('address').get('state'))\n",
    "    zip_code.append(item.get('address').get('zip'))\n",
    "    if item['rankHistory']:\n",
    "        rank.append(item['rankHistory'][0]['rank'])\n",
    "        rankOf.append(item['rankHistory'][0]['rankOf'])\n",
    "        rankStatewidePercentage.append(item['rankHistory'][0]['rankStatewidePercentage'])\n",
    "        year.append(item['rankHistory'][0]['year'])\n",
    "    else: \n",
    "        rank.append('')\n",
    "        rankOf.append('')\n",
    "        rankStatewidePercentage.append('')\n",
    "        year.append('')"
   ]
  },
  {
   "cell_type": "code",
   "execution_count": 164,
   "metadata": {},
   "outputs": [
    {
     "name": "stdout",
     "output_type": "stream",
     "text": [
      "343\n",
      "343\n",
      "343\n",
      "343\n",
      "343\n",
      "343\n",
      "343\n",
      "343\n",
      "343\n",
      "343\n",
      "343\n",
      "343\n",
      "343\n",
      "343\n"
     ]
    }
   ],
   "source": [
    "print(len(districtName))\n",
    "print(len(county_list))\n",
    "print(len(city_list))\n",
    "print(len(numbertotalschools))\n",
    "print(len(number_primary_schools))\n",
    "print(len(number_middle_schools))\n",
    "print(len(number_high_schools))\n",
    "print(len(number_alternative_schools))\n",
    "print(len(state_list))\n",
    "print(len(rank))\n",
    "print(len(rankOf))\n",
    "print(len(rankStatewidePercentage))\n",
    "print(len(year))\n",
    "print(len(zip_code))"
   ]
  },
  {
   "cell_type": "code",
   "execution_count": 37,
   "metadata": {
    "scrolled": false
   },
   "outputs": [
    {
     "ename": "NameError",
     "evalue": "name 'districtName' is not defined",
     "output_type": "error",
     "traceback": [
      "\u001b[0;31m---------------------------------------------------------------------------\u001b[0m",
      "\u001b[0;31mNameError\u001b[0m                                 Traceback (most recent call last)",
      "\u001b[0;32m<ipython-input-37-51ebd87a94b7>\u001b[0m in \u001b[0;36m<module>\u001b[0;34m\u001b[0m\n\u001b[1;32m      2\u001b[0m     \u001b[0;34m\"City\"\u001b[0m\u001b[0;34m:\u001b[0m \u001b[0mcity_list\u001b[0m\u001b[0;34m,\u001b[0m\u001b[0;34m\u001b[0m\u001b[0;34m\u001b[0m\u001b[0m\n\u001b[1;32m      3\u001b[0m     \u001b[0;34m\"County\"\u001b[0m\u001b[0;34m:\u001b[0m \u001b[0mcounty_list\u001b[0m\u001b[0;34m,\u001b[0m\u001b[0;34m\u001b[0m\u001b[0;34m\u001b[0m\u001b[0m\n\u001b[0;32m----> 4\u001b[0;31m     \u001b[0;34m\"District Name\"\u001b[0m\u001b[0;34m:\u001b[0m \u001b[0mdistrictName\u001b[0m\u001b[0;34m,\u001b[0m\u001b[0;34m\u001b[0m\u001b[0;34m\u001b[0m\u001b[0m\n\u001b[0m\u001b[1;32m      5\u001b[0m     \u001b[0;34m\"Number of High Schools\"\u001b[0m\u001b[0;34m:\u001b[0m \u001b[0mnumber_high_schools\u001b[0m\u001b[0;34m,\u001b[0m\u001b[0;34m\u001b[0m\u001b[0;34m\u001b[0m\u001b[0m\n\u001b[1;32m      6\u001b[0m     \u001b[0;34m\"Number of Middle Schools\"\u001b[0m\u001b[0;34m:\u001b[0m \u001b[0mnumber_middle_schools\u001b[0m\u001b[0;34m,\u001b[0m\u001b[0;34m\u001b[0m\u001b[0;34m\u001b[0m\u001b[0m\n",
      "\u001b[0;31mNameError\u001b[0m: name 'districtName' is not defined"
     ]
    }
   ],
   "source": [
    "district_dict = {\n",
    "    \"City\": city_list,\n",
    "    \"County\": county_list,\n",
    "    \"District Name\": districtName,\n",
    "    \"Number of High Schools\": number_high_schools,\n",
    "    \"Number of Middle Schools\": number_middle_schools,\n",
    "    \"Number of Alternative Schools\": number_alternative_schools,\n",
    "    \"Number of Primary Schools\": number_primary_schools,\n",
    "    \"Number of Total Schools\": numbertotalschools,\n",
    "    \"State\": state_list,\n",
    "    \"Rank\": rank,\n",
    "    \"RankOf\": rankOf,\n",
    "    \"RankStatewidePercentage\": rankStatewidePercentage,\n",
    "    \"Year\": year,\n",
    "    \"Zip Code\": zip_code\n",
    "}\n",
    "district_data = pd.DataFrame(district_dict)\n",
    "district_data"
   ]
  },
  {
   "cell_type": "code",
   "execution_count": 166,
   "metadata": {},
   "outputs": [],
   "source": [
    "district_data.to_csv(\"District Data/district_data.csv\")"
   ]
  },
  {
   "cell_type": "code",
   "execution_count": 36,
   "metadata": {},
   "outputs": [
    {
     "ename": "NameError",
     "evalue": "name 'district_data' is not defined",
     "output_type": "error",
     "traceback": [
      "\u001b[0;31m---------------------------------------------------------------------------\u001b[0m",
      "\u001b[0;31mNameError\u001b[0m                                 Traceback (most recent call last)",
      "\u001b[0;32m<ipython-input-36-31a7c6b24c22>\u001b[0m in \u001b[0;36m<module>\u001b[0;34m\u001b[0m\n\u001b[0;32m----> 1\u001b[0;31m \u001b[0mdistrictdatacounty\u001b[0m \u001b[0;34m=\u001b[0m \u001b[0mdistrict_data\u001b[0m\u001b[0;34m.\u001b[0m\u001b[0mgroupby\u001b[0m\u001b[0;34m(\u001b[0m\u001b[0;34m\"County\"\u001b[0m\u001b[0;34m)\u001b[0m\u001b[0;34m\u001b[0m\u001b[0;34m\u001b[0m\u001b[0m\n\u001b[0m",
      "\u001b[0;31mNameError\u001b[0m: name 'district_data' is not defined"
     ]
    }
   ],
   "source": [
    "districtdatacounty = district_data.groupby(\"County\")"
   ]
  },
  {
   "cell_type": "code",
   "execution_count": null,
   "metadata": {},
   "outputs": [],
   "source": []
  }
 ],
 "metadata": {
  "kernelspec": {
   "display_name": "Python [conda env:PyData] *",
   "language": "python",
   "name": "conda-env-PyData-py"
  },
  "language_info": {
   "codemirror_mode": {
    "name": "ipython",
    "version": 3
   },
   "file_extension": ".py",
   "mimetype": "text/x-python",
   "name": "python",
   "nbconvert_exporter": "python",
   "pygments_lexer": "ipython3",
   "version": "3.6.10"
  }
 },
 "nbformat": 4,
 "nbformat_minor": 4
}
